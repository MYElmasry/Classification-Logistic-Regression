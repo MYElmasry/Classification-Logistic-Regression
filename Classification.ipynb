{
  "nbformat": 4,
  "nbformat_minor": 0,
  "metadata": {
    "colab": {
      "provenance": [],
      "mount_file_id": "11YOf9BixG2VOe1os88G18oJSj0bR04de",
      "authorship_tag": "ABX9TyPuvxiYf6bt0V2I01/JF8P4",
      "include_colab_link": true
    },
    "kernelspec": {
      "name": "python3",
      "display_name": "Python 3"
    },
    "language_info": {
      "name": "python"
    }
  },
  "cells": [
    {
      "cell_type": "markdown",
      "metadata": {
        "id": "view-in-github",
        "colab_type": "text"
      },
      "source": [
        "<a href=\"https://colab.research.google.com/github/MYElmasry/Classification-Logistic-Regression/blob/main/Classification.ipynb\" target=\"_parent\"><img src=\"https://colab.research.google.com/assets/colab-badge.svg\" alt=\"Open In Colab\"/></a>"
      ]
    },
    {
      "cell_type": "code",
      "execution_count": 1,
      "metadata": {
        "id": "27VjnLULoLbW"
      },
      "outputs": [],
      "source": [
        "import numpy as np\n",
        "import pandas as pd\n",
        "import matplotlib.pyplot as plt"
      ]
    },
    {
      "cell_type": "code",
      "source": [
        "path = \"/content/drive/MyDrive/ex2data1.txt\"\n",
        "data = pd.read_csv(path, header=None, names=['Exam 1', 'Exam 2', 'Admitted'])\n",
        "\n",
        "print('data = ')\n",
        "print(data.head(10) )\n",
        "print('data.describe = ')\n",
        "print(data.describe())"
      ],
      "metadata": {
        "colab": {
          "base_uri": "https://localhost:8080/"
        },
        "id": "aC1IBv621vsg",
        "outputId": "ff7c36f3-7ee7-4ecb-e8a4-e9f27176105d"
      },
      "execution_count": 2,
      "outputs": [
        {
          "output_type": "stream",
          "name": "stdout",
          "text": [
            "data = \n",
            "      Exam 1     Exam 2  Admitted\n",
            "0  34.623660  78.024693         0\n",
            "1  30.286711  43.894998         0\n",
            "2  35.847409  72.902198         0\n",
            "3  60.182599  86.308552         1\n",
            "4  79.032736  75.344376         1\n",
            "5  45.083277  56.316372         0\n",
            "6  61.106665  96.511426         1\n",
            "7  75.024746  46.554014         1\n",
            "8  76.098787  87.420570         1\n",
            "9  84.432820  43.533393         1\n",
            "data.describe = \n",
            "           Exam 1      Exam 2    Admitted\n",
            "count  100.000000  100.000000  100.000000\n",
            "mean    65.644274   66.221998    0.600000\n",
            "std     19.458222   18.582783    0.492366\n",
            "min     30.058822   30.603263    0.000000\n",
            "25%     50.919511   48.179205    0.000000\n",
            "50%     67.032988   67.682381    1.000000\n",
            "75%     80.212529   79.360605    1.000000\n",
            "max     99.827858   98.869436    1.000000\n"
          ]
        }
      ]
    },
    {
      "cell_type": "code",
      "source": [
        "positive = data[data['Admitted'].isin([1])]\n",
        "negative = data[data['Admitted'].isin([0])]\n",
        "\n",
        "print(positive)\n",
        "print('==========================')\n",
        "print(negative)"
      ],
      "metadata": {
        "colab": {
          "base_uri": "https://localhost:8080/"
        },
        "id": "B38iFVfN2KZi",
        "outputId": "25d52d5e-8dc1-4438-ee18-01dcb20bdb6a"
      },
      "execution_count": 3,
      "outputs": [
        {
          "output_type": "stream",
          "name": "stdout",
          "text": [
            "       Exam 1     Exam 2  Admitted\n",
            "3   60.182599  86.308552         1\n",
            "4   79.032736  75.344376         1\n",
            "6   61.106665  96.511426         1\n",
            "7   75.024746  46.554014         1\n",
            "8   76.098787  87.420570         1\n",
            "9   84.432820  43.533393         1\n",
            "12  82.307053  76.481963         1\n",
            "13  69.364589  97.718692         1\n",
            "15  53.971052  89.207350         1\n",
            "16  69.070144  52.740470         1\n",
            "18  70.661510  92.927138         1\n",
            "19  76.978784  47.575964         1\n",
            "21  89.676776  65.799366         1\n",
            "24  77.924091  68.972360         1\n",
            "25  62.271014  69.954458         1\n",
            "26  80.190181  44.821629         1\n",
            "30  61.379289  72.807887         1\n",
            "31  85.404519  57.051984         1\n",
            "33  52.045405  69.432860         1\n",
            "37  64.176989  80.908061         1\n",
            "40  83.902394  56.308046         1\n",
            "42  94.443368  65.568922         1\n",
            "46  77.193035  70.458200         1\n",
            "47  97.771599  86.727822         1\n",
            "48  62.073064  96.768824         1\n",
            "49  91.564974  88.696293         1\n",
            "50  79.944818  74.163119         1\n",
            "51  99.272527  60.999031         1\n",
            "52  90.546714  43.390602         1\n",
            "56  97.645634  68.861573         1\n",
            "58  74.248691  69.824571         1\n",
            "59  71.796462  78.453562         1\n",
            "60  75.395611  85.759937         1\n",
            "66  40.457551  97.535185         1\n",
            "68  80.279574  92.116061         1\n",
            "69  66.746719  60.991394         1\n",
            "71  64.039320  78.031688         1\n",
            "72  72.346494  96.227593         1\n",
            "73  60.457886  73.094998         1\n",
            "74  58.840956  75.858448         1\n",
            "75  99.827858  72.369252         1\n",
            "76  47.264269  88.475865         1\n",
            "77  50.458160  75.809860         1\n",
            "80  88.913896  69.803789         1\n",
            "81  94.834507  45.694307         1\n",
            "82  67.319257  66.589353         1\n",
            "83  57.238706  59.514282         1\n",
            "84  80.366756  90.960148         1\n",
            "85  68.468522  85.594307         1\n",
            "87  75.477702  90.424539         1\n",
            "88  78.635424  96.647427         1\n",
            "90  94.094331  77.159105         1\n",
            "91  90.448551  87.508792         1\n",
            "93  74.492692  84.845137         1\n",
            "94  89.845807  45.358284         1\n",
            "95  83.489163  48.380286         1\n",
            "96  42.261701  87.103851         1\n",
            "97  99.315009  68.775409         1\n",
            "98  55.340018  64.931938         1\n",
            "99  74.775893  89.529813         1\n",
            "==========================\n",
            "       Exam 1     Exam 2  Admitted\n",
            "0   34.623660  78.024693         0\n",
            "1   30.286711  43.894998         0\n",
            "2   35.847409  72.902198         0\n",
            "5   45.083277  56.316372         0\n",
            "10  95.861555  38.225278         0\n",
            "11  75.013658  30.603263         0\n",
            "14  39.538339  76.036811         0\n",
            "17  67.946855  46.678574         0\n",
            "20  67.372028  42.838438         0\n",
            "22  50.534788  48.855812         0\n",
            "23  34.212061  44.209529         0\n",
            "27  93.114389  38.800670         0\n",
            "28  61.830206  50.256108         0\n",
            "29  38.785804  64.995681         0\n",
            "32  52.107980  63.127624         0\n",
            "34  40.236894  71.167748         0\n",
            "35  54.635106  52.213886         0\n",
            "36  33.915500  98.869436         0\n",
            "38  74.789253  41.573415         0\n",
            "39  34.183640  75.237720         0\n",
            "41  51.547720  46.856290         0\n",
            "43  82.368754  40.618255         0\n",
            "44  51.047752  45.822701         0\n",
            "45  62.222676  52.060992         0\n",
            "53  34.524514  60.396342         0\n",
            "54  50.286496  49.804539         0\n",
            "55  49.586677  59.808951         0\n",
            "57  32.577200  95.598548         0\n",
            "61  35.286113  47.020514         0\n",
            "62  56.253817  39.261473         0\n",
            "63  30.058822  49.592974         0\n",
            "64  44.668262  66.450086         0\n",
            "65  66.560894  41.092098         0\n",
            "67  49.072563  51.883212         0\n",
            "70  32.722833  43.307173         0\n",
            "78  60.455556  42.508409         0\n",
            "79  82.226662  42.719879         0\n",
            "86  42.075455  78.844786         0\n",
            "89  52.348004  60.769505         0\n",
            "92  55.482161  35.570703         0\n"
          ]
        }
      ]
    },
    {
      "cell_type": "code",
      "source": [
        "fig, ax = plt.subplots(figsize=(8,5))\n",
        "ax.scatter(positive['Exam 1'],positive['Exam 2'],s=50,c='b', marker= 'o', label='Admitted')\n",
        "\n",
        "ax.scatter(negative['Exam 1'], negative['Exam 2'], s=50, c='r', marker='x', label='Not Admitted')\n",
        "ax.legend()\n",
        "ax.set_xlabel('Exam 1 Score')\n",
        "ax.set_ylabel('Exam 2 Score')"
      ],
      "metadata": {
        "colab": {
          "base_uri": "https://localhost:8080/",
          "height": 351
        },
        "id": "nSwViom62Okq",
        "outputId": "2f29ee12-b23d-4aa9-e8da-e31526888f1a"
      },
      "execution_count": 4,
      "outputs": [
        {
          "output_type": "execute_result",
          "data": {
            "text/plain": [
              "Text(0, 0.5, 'Exam 2 Score')"
            ]
          },
          "metadata": {},
          "execution_count": 4
        },
        {
          "output_type": "display_data",
          "data": {
            "text/plain": [
              "<Figure size 576x360 with 1 Axes>"
            ],
            "image/png": "[encoded data removed]"
          },
          "metadata": {
            "needs_background": "light"
          }
        }
      ]
    },
    {
      "cell_type": "code",
      "source": [
        "def sigmoid(z):\n",
        "    return 1/(1+np.exp(-z))"
      ],
      "metadata": {
        "id": "tRKarWis2afV"
      },
      "execution_count": 5,
      "outputs": []
    },
    {
      "cell_type": "code",
      "source": [
        "data.insert(0, 'ones', 1)\n",
        "cols = data.shape[1]\n",
        "X = data.iloc[:,0:cols-1]\n",
        "y = data.iloc[:,cols-1:cols]"
      ],
      "metadata": {
        "id": "0uoXhA1S2mCQ"
      },
      "execution_count": 6,
      "outputs": []
    },
    {
      "cell_type": "code",
      "source": [
        "X = np.array(X.values)\n",
        "y = np.array(y.values)\n",
        "theta = np.zeros(3)"
      ],
      "metadata": {
        "id": "5K9371me2pQq"
      },
      "execution_count": 7,
      "outputs": []
    },
    {
      "cell_type": "code",
      "source": [
        "def cost(theta, X, y):\n",
        "    theta = np.matrix(theta)\n",
        "    X = np.matrix(X)\n",
        "    y = np.matrix(y)\n",
        "    first = np.multiply(-y, np.log(sigmoid(X * theta.T)))\n",
        "    second = np.multiply((1 - y), np.log(1 - sigmoid(X * theta.T)))\n",
        "    return np.sum(first - second) / (len(X))"
      ],
      "metadata": {
        "id": "3hlQ86Ke23Ns"
      },
      "execution_count": 8,
      "outputs": []
    },
    {
      "cell_type": "code",
      "source": [
        "thiscost = cost(theta, X, y)\n",
        "print('cost = ' , thiscost)"
      ],
      "metadata": {
        "colab": {
          "base_uri": "https://localhost:8080/"
        },
        "id": "evw5NcbL26gS",
        "outputId": "1e3a5fb4-c1b8-4a7d-81f5-24b331ee1384"
      },
      "execution_count": 9,
      "outputs": [
        {
          "output_type": "stream",
          "name": "stdout",
          "text": [
            "cost =  0.6931471805599453\n"
          ]
        }
      ]
    },
    {
      "cell_type": "code",
      "source": [
        "def gradient(theta, X, y):\n",
        "    theta = np.matrix(theta)\n",
        "    X = np.matrix(X)\n",
        "    y = np.matrix(y)\n",
        "    parameters = int(theta.ravel().shape[1])\n",
        "    grad = np.zeros(parameters)\n",
        "    error = sigmoid(X * theta.T) - y\n",
        "    for i in range(parameters):\n",
        "        term = np.multiply(error, X[:,i])\n",
        "        grad[i] = np.sum(term) / len(X)\n",
        "    return grad"
      ],
      "metadata": {
        "id": "nn9JM6Xn3EQ3"
      },
      "execution_count": 10,
      "outputs": []
    },
    {
      "cell_type": "code",
      "source": [
        "import scipy.optimize as opt\n",
        "result = opt.fmin_tnc(func=cost, x0=theta, fprime=gradient, args=(X, y))\n",
        "\n",
        "costafteroptimize = cost(result[0], X, y)\n",
        "print('cost after optimize = ' , costafteroptimize)"
      ],
      "metadata": {
        "colab": {
          "base_uri": "https://localhost:8080/"
        },
        "id": "mn7NHSCB3QZJ",
        "outputId": "2b339f3a-10c3-47b1-f5c5-2ed750c9335c"
      },
      "execution_count": 11,
      "outputs": [
        {
          "output_type": "stream",
          "name": "stdout",
          "text": [
            "cost after optimize =  0.20349770158947483\n"
          ]
        }
      ]
    },
    {
      "cell_type": "code",
      "source": [
        "def predict(theta, X):\n",
        "    probability = sigmoid(X * theta.T)\n",
        "    return [1 if x >= 0.5 else 0 for x in probability]\n",
        "theta_min = np.matrix(result[0])\n",
        "predictions = predict(theta_min, X)\n",
        "correct = [1 if ((a == 1 and b == 1) or (a == 0 and b == 0)) else 0 for (a, b) in\n",
        "zip(predictions, y)]\n",
        "accuracy = (sum(map(int, correct)) % len(correct))\n",
        "print ('accuracy = {0}%'.format(accuracy))"
      ],
      "metadata": {
        "colab": {
          "base_uri": "https://localhost:8080/"
        },
        "id": "A6n2OkAs3bf3",
        "outputId": "b76268ca-c687-4679-ace1-9f64a544262d"
      },
      "execution_count": 14,
      "outputs": [
        {
          "output_type": "stream",
          "name": "stdout",
          "text": [
            "accuracy = 89%\n"
          ]
        }
      ]
    }
  ]
}